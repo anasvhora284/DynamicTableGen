{
  "cells": [
    {
      "cell_type": "markdown",
      "metadata": {},
      "source": [
        "##### __Practice questions:__"
      ]
    },
    {
      "cell_type": "code",
      "execution_count": 20,
      "metadata": {},
      "outputs": [
        {
          "name": "stdout",
          "output_type": "stream",
          "text": [
            "Brand: Toyota\n",
            "Model: Corolla\n",
            "Year: 2020\n"
          ]
        }
      ],
      "source": [
        "class Car:\n",
        "    def __init__(self, brand, model, year):\n",
        "        self.brand = brand\n",
        "        self.model = model\n",
        "        self.year = year\n",
        "    \n",
        "    def display_info(self):\n",
        "        print(\"Brand:\", self.brand)\n",
        "        print(\"Model:\", self.model)\n",
        "        print(\"Year:\", self.year)\n",
        "\n",
        "\n",
        "car = Car(\"Toyota\", \"Corolla\", 2020)\n",
        "car.display_info()"
      ]
    },
    {
      "cell_type": "code",
      "execution_count": 2,
      "metadata": {},
      "outputs": [
        {
          "name": "stdout",
          "output_type": "stream",
          "text": [
            "Vector(4, 6)\n"
          ]
        }
      ],
      "source": [
        "class Vector:\n",
        "    def __init__(self, x, y):\n",
        "        self.x = x\n",
        "        self.y = y\n",
        "    \n",
        "    def __add__(self, other):\n",
        "        return Vector(self.x + other.x, self.y + other.y)\n",
        "    \n",
        "    def __str__(self):\n",
        "        return f\"Vector({self.x}, {self.y})\"\n",
        "\n",
        "v1 = Vector(3, 4)\n",
        "v2 = Vector(1, 2)\n",
        "v3 = v1 + v2\n",
        "print(v3)"
      ]
    },
    {
      "cell_type": "code",
      "execution_count": 3,
      "metadata": {},
      "outputs": [
        {
          "name": "stdout",
          "output_type": "stream",
          "text": [
            "Error: File not found\n",
            "Warning: Low battery\n",
            "True\n"
          ]
        }
      ],
      "source": [
        "class Logger:\n",
        "    _instance = None\n",
        "\n",
        "    def __new__(cls):\n",
        "        if cls._instance is None:\n",
        "            cls._instance = super().__new__(cls)\n",
        "            cls._instance.logs = []\n",
        "        return cls._instance\n",
        "\n",
        "    def log(self, message):\n",
        "        self.logs.append(message)\n",
        "\n",
        "    def show_logs(self):\n",
        "        for log in self.logs:\n",
        "            print(log)\n",
        "\n",
        "logger1 = Logger()\n",
        "logger2 = Logger()\n",
        "\n",
        "logger1.log(\"Error: File not found\")\n",
        "logger2.log(\"Warning: Low battery\")\n",
        "\n",
        "logger1.show_logs()\n",
        "print(logger1 is logger2)\n"
      ]
    },
    {
      "cell_type": "code",
      "execution_count": 4,
      "metadata": {},
      "outputs": [
        {
          "name": "stdout",
          "output_type": "stream",
          "text": [
            "2\n",
            "4\n",
            "6\n",
            "8\n",
            "10\n",
            "12\n",
            "14\n",
            "16\n",
            "18\n",
            "20\n"
          ]
        }
      ],
      "source": [
        "class EvenNumbers:\n",
        "    def __init__(self, limit):\n",
        "        self.limit = limit\n",
        "\n",
        "    def __iter__(self):\n",
        "        self.num = 0\n",
        "        return self\n",
        "    \n",
        "    def __next__(self):\n",
        "        if self.num < self.limit:\n",
        "            self.num += 2\n",
        "            return self.num\n",
        "        else:\n",
        "            raise StopIteration\n",
        "\n",
        "evens = EvenNumbers(20)\n",
        "for num in evens:\n",
        "    print(num)"
      ]
    },
    {
      "cell_type": "code",
      "execution_count": 5,
      "metadata": {},
      "outputs": [
        {
          "name": "stdout",
          "output_type": "stream",
          "text": [
            "3 4\n",
            "Cannot modify immutable instance\n"
          ]
        }
      ],
      "source": [
        "class ImmutablePoint:\n",
        "    def __init__(self, x, y):\n",
        "        self._x = x\n",
        "        self._y = y\n",
        "\n",
        "    @property\n",
        "    def x(self):\n",
        "        return self._x\n",
        "\n",
        "    @property\n",
        "    def y(self):\n",
        "        return self._y\n",
        "\n",
        "    @x.setter\n",
        "    def x(self, value):\n",
        "        raise AttributeError(\"Cannot modify immutable instance\")\n",
        "\n",
        "    @y.setter\n",
        "    def y(self, value):\n",
        "        raise AttributeError(\"Cannot modify immutable instance\")\n",
        "\n",
        "\n",
        "p = ImmutablePoint(3, 4)\n",
        "print(p.x, p.y)\n",
        "try:\n",
        "    p.x = 10  # Should raise an error\n",
        "except AttributeError as e:\n",
        "    print(e)"
      ]
    },
    {
      "cell_type": "code",
      "execution_count": 6,
      "metadata": {},
      "outputs": [
        {
          "name": "stdout",
          "output_type": "stream",
          "text": [
            "Positional args: (1, 2)\n",
            "Default args: None\n",
            "*args: (1, 2)\n",
            "**kwargs: {'x': 5, 'y': 10, 'z': 20} \n",
            "\n",
            "Positional args: (3, 4, 5, 6, 7)\n",
            "Default args: None\n",
            "*args: (3, 4, 5, 6, 7)\n",
            "**kwargs: {'name': 'Alice', 'age': 25} \n",
            "\n"
          ]
        }
      ],
      "source": [
        "class AnalyzeArguments:\n",
        "    def __init__(self, *args, default=None, **kwargs):\n",
        "        self.positional_args = args\n",
        "        self.default_args = default\n",
        "        self.args = args\n",
        "        self.kwargs = kwargs\n",
        "        print(self)\n",
        "\n",
        "    def __str__(self):\n",
        "        return f\"Positional args: {self.positional_args}\\nDefault args: {self.default_args}\\n*args: {self.args}\\n**kwargs: {self.kwargs} \\n\"\n",
        "\n",
        "\n",
        "analyze_arguments_instance_1 = AnalyzeArguments(1, 2, x=5, y=10, z=20)\n",
        "\n",
        "analyze_arguments_instance_2 = AnalyzeArguments(3, 4, 5, 6, 7, name=\"Alice\", age=25)\n"
      ]
    },
    {
      "cell_type": "code",
      "execution_count": 7,
      "metadata": {},
      "outputs": [
        {
          "name": "stdout",
          "output_type": "stream",
          "text": [
            "Original: 140714834519112\n",
            "Before: 140714834519112\n",
            "After: 140714834519432\n",
            "Outside Function: 140714834519112\n"
          ]
        }
      ],
      "source": [
        "global x\n",
        "x = 10\n",
        "print(\"Original:\", id(x))\n",
        "\n",
        "def modify(a):\n",
        "    print(\"Before:\", id(a))\n",
        "    a += 10  # New object created\n",
        "    print(\"After:\", id(a))  # Different memory address\n",
        "\n",
        "modify(x)\n",
        "print(\"Outside Function:\", id(x))"
      ]
    },
    {
      "cell_type": "code",
      "execution_count": 8,
      "metadata": {},
      "outputs": [
        {
          "name": "stdout",
          "output_type": "stream",
          "text": [
            "ab'cd   \n",
            "\"ab'cd   \"\n"
          ]
        }
      ],
      "source": [
        "acc = \"ab\\'cd   \"\n",
        "print(acc)\n",
        "print(repr(acc))\n"
      ]
    },
    {
      "cell_type": "code",
      "execution_count": 9,
      "metadata": {},
      "outputs": [
        {
          "name": "stdout",
          "output_type": "stream",
          "text": [
            "Hello, Alice! Welcome to Python Modules.\n",
            "7\n",
            "3.14159\n"
          ]
        }
      ],
      "source": [
        "import sys\n",
        "sys.path.append(\"../\")\n",
        "\n",
        "import my_module as mm\n",
        "\n",
        "print(mm.greet(\"Alice\"))\n",
        "print(mm.add(3, 4))\n",
        "print(mm.PI)"
      ]
    },
    {
      "cell_type": "code",
      "execution_count": 10,
      "metadata": {},
      "outputs": [
        {
          "name": "stdout",
          "output_type": "stream",
          "text": [
            "Balance: 1000\n",
            "Balance: 3000\n"
          ]
        }
      ],
      "source": [
        "class bank_b():\n",
        "    def __init__(self, balance):\n",
        "        self.balance = balance\n",
        "\n",
        "    def print_balance(self):\n",
        "        print(\"Balance:\", self.balance)\n",
        "\n",
        "    def __iadd__(self, name, value):\n",
        "        if name == \"balance\":\n",
        "            if value < 0:\n",
        "                raise ValueError(\"Balance cannot be negative\")\n",
        "        self.balance -= value\n",
        "\n",
        "A = bank_b(1000)\n",
        "A.print_balance()\n",
        "A.balance += 2000\n",
        "A.print_balance()"
      ]
    },
    {
      "cell_type": "code",
      "execution_count": 11,
      "metadata": {},
      "outputs": [
        {
          "name": "stdout",
          "output_type": "stream",
          "text": [
            "inf\n",
            "60\n"
          ]
        }
      ],
      "source": [
        "import math\n",
        "\n",
        "print(math.inf)\n",
        "print(math.lcm(4, 15))"
      ]
    },
    {
      "cell_type": "code",
      "execution_count": 12,
      "metadata": {},
      "outputs": [
        {
          "name": "stdout",
          "output_type": "stream",
          "text": [
            "['42', '53', '100']\n"
          ]
        }
      ],
      "source": [
        "import re\n",
        "\n",
        "pattern = r\"\\d+\"  # Matches numbers\n",
        "text = \"Order 42, item 53, quantity 100\"\n",
        "matches = re.findall(pattern, text)\n",
        "print(matches)  # Output: ['42', '53', '100']"
      ]
    },
    {
      "cell_type": "code",
      "execution_count": 13,
      "metadata": {},
      "outputs": [
        {
          "name": "stdout",
          "output_type": "stream",
          "text": [
            "Entered the city name: Hello\n",
            "It is currently scattered clouds in Hello\n"
          ]
        }
      ],
      "source": [
        "import requests # type: ignore\n",
        "\n",
        "API_Key = \"719bf2ed02fec266673ea331675fce83\"\n",
        "\n",
        "city_name = input()\n",
        "print(f\"Entered the city name: {city_name}\")\n",
        "\n",
        "response = requests.post(f\"https://api.openweathermap.org/data/2.5/weather?q={city_name}&appid={API_Key}\")\n",
        "\n",
        "weather = response.json()\n",
        "\n",
        "print(\"It is currently\", weather[\"weather\"][0][\"description\"] + \" in\", city_name) if response.status_code == 200 else print(\"City not found\")"
      ]
    },
    {
      "cell_type": "code",
      "execution_count": 14,
      "metadata": {},
      "outputs": [
        {
          "name": "stdout",
          "output_type": "stream",
          "text": [
            "['C:\\\\Users\\\\vhora\\\\AppData\\\\Roaming\\\\Python\\\\Python311\\\\site-packages\\\\ipykernel_launcher.py', '--f=c:\\\\Users\\\\vhora\\\\AppData\\\\Roaming\\\\jupyter\\\\runtime\\\\kernel-v33ec9ec30f9f5443fdad6109310aece59529daeb9.json']\n"
          ]
        }
      ],
      "source": [
        "import sys\n",
        "print(sys.argv)  # Lists command-line arguments passed to the script"
      ]
    },
    {
      "cell_type": "code",
      "execution_count": 15,
      "metadata": {},
      "outputs": [
        {
          "name": "stdout",
          "output_type": "stream",
          "text": [
            "Function finished\n",
            "Execution time: 2.0004 seconds\n"
          ]
        }
      ],
      "source": [
        "import time\n",
        "\n",
        "def timer_decorator(func):\n",
        "    def wrapper(*args, **kwargs):\n",
        "        start = time.time()\n",
        "        result = func(*args, **kwargs)\n",
        "        end = time.time()\n",
        "        print(f\"Execution time: {end - start:.4f} seconds\")\n",
        "        return result\n",
        "    return wrapper\n",
        "\n",
        "@timer_decorator\n",
        "def slow_function():\n",
        "    time.sleep(2)\n",
        "    print(\"Function finished\")\n",
        "\n",
        "slow_function()"
      ]
    },
    {
      "cell_type": "code",
      "execution_count": 16,
      "metadata": {},
      "outputs": [
        {
          "name": "stdout",
          "output_type": "stream",
          "text": [
            "11 x 1 = 11\n",
            "11 x 3 = 33\n",
            "11 x 5 = 55\n",
            "11 x 7 = 77\n",
            "11 x 9 = 99\n",
            "1 x 1 = 1\n",
            "1 x 3 = 3\n",
            "1 x 5 = 5\n",
            "1 x 7 = 7\n",
            "1 x 9 = 9\n",
            "3 x 1 = 3\n",
            "3 x 3 = 9\n",
            "3 x 5 = 15\n",
            "3 x 7 = 21\n",
            "3 x 9 = 27\n",
            "5 x 1 = 5\n",
            "5 x 3 = 15\n",
            "5 x 5 = 25\n",
            "5 x 7 = 35\n",
            "5 x 9 = 45\n"
          ]
        }
      ],
      "source": [
        "def table(n):\n",
        "    for i in range(1, 11):\n",
        "        print(f\"{n} x {i} = {n * i}\") if (n * i % 2 != 0) else \"\"\n",
        "\n",
        "table(10)\n",
        "table(11)\n",
        "table(1)\n",
        "table(3)\n",
        "table(5)"
      ]
    },
    {
      "cell_type": "code",
      "execution_count": 17,
      "metadata": {},
      "outputs": [
        {
          "name": "stdout",
          "output_type": "stream",
          "text": [
            "Something1\n",
            "Hello\n",
            "None\n",
            "Something2\n"
          ]
        }
      ],
      "source": [
        "def decorator_name(func):\n",
        "    def wrapper(*args, **kwargs):\n",
        "        print(\"Something1\")\n",
        "        var_a = func(*args, *kwargs)\n",
        "        print(var_a)\n",
        "        print(\"Something2\")\n",
        "    return wrapper\n",
        "\n",
        "@decorator_name\n",
        "def hello():\n",
        "    return print(\"Hello\")\n",
        "\n",
        "hello()"
      ]
    },
    {
      "cell_type": "code",
      "execution_count": 18,
      "metadata": {},
      "outputs": [
        {
          "name": "stdout",
          "output_type": "stream",
          "text": [
            "{'221111122', '111222111'}\n",
            "{'11111222', '1112211122', '22211111', '221111122', '2211122111', '111222111'}\n",
            "111222111\n"
          ]
        }
      ],
      "source": [
        "# cook your dish here\n",
        "import math as Math\n",
        "def generate_palindrome(one_amount, two_amount):\n",
        "    list_a = set()\n",
        "    list_b = set()\n",
        "    p1 = \"1\" * one_amount + \"2\" * two_amount\n",
        "    p2 = \"2\" * two_amount + \"1\" * one_amount\n",
        "    p3 = \"1\" * Math.ceil(one_amount / 2) + \"2\" * Math.ceil(two_amount / 2) + \"1\" * Math.ceil(one_amount / 2) + \"2\" * Math.ceil(two_amount / 2)\n",
        "    p4 = \"2\" * Math.ceil(two_amount / 2) + \"1\" * Math.ceil(one_amount / 2) + \"2\" * Math.ceil(two_amount / 2) + \"1\" * Math.ceil(one_amount / 2)\n",
        "    p5 = \"1\" * Math.ceil(one_amount / 2) + \"2\" * two_amount + \"1\" * Math.ceil(one_amount / 2)\n",
        "    p6 = \"2\" * Math.ceil(two_amount / 2) + \"1\" * one_amount + \"2\" * Math.ceil(two_amount / 2)\n",
        "\n",
        "    for i in range(6):\n",
        "        list_b.add(eval(f\"p{i+1}\"))\n",
        "\n",
        "    for i in list_b:\n",
        "        if i == i[::-1] :\n",
        "            list_a.add(i)\n",
        "\n",
        "    print(list_a)\n",
        "    print(list_b)\n",
        "    print(min(list_a))\n",
        "\n",
        "testCases = int(input())\n",
        "\n",
        "for i in range(testCases):\n",
        "    one_amount, two_amount = list(map(int, input().split()))\n",
        "    \n",
        "    generate_palindrome(one_amount, two_amount)\n"
      ]
    },
    {
      "cell_type": "code",
      "execution_count": 1,
      "metadata": {},
      "outputs": [
        {
          "name": "stdout",
          "output_type": "stream",
          "text": [
            "4\n"
          ]
        }
      ],
      "source": [
        "testCases = int(input())\n",
        "\n",
        "for _ in range(testCases):\n",
        "    array_length, magical_number = list(map(int, input().split()))\n",
        "    array_input = list(map(int, input().split()))\n",
        "\n",
        "    result_array = []\n",
        "    for i in range(array_length):\n",
        "        temp_array = array_input.copy()\n",
        "        temp_array[i] *= magical_number\n",
        "        result_array.append(temp_array)\n",
        "\n",
        "    max_count = []\n",
        "\n",
        "    if len(array_input) == array_length:\n",
        "        for i in range(array_length):\n",
        "            count = 1\n",
        "            dn_array = [result_array[i][0]]\n",
        "            \n",
        "            for j in range(1, array_length):\n",
        "                if result_array[i][j] >= result_array[i][j - 1]:\n",
        "                    dn_array.append(result_array[i][j])\n",
        "                    count += 1\n",
        "                else:\n",
        "                    dn_array = [result_array[i][j]]\n",
        "            \n",
        "            max_count.append(count)\n",
        "\n",
        "        print(max(max_count) if max_count else 0)\n"
      ]
    },
    {
      "cell_type": "code",
      "execution_count": 13,
      "metadata": {},
      "outputs": [
        {
          "name": "stdout",
          "output_type": "stream",
          "text": [
            "R\n"
          ]
        },
        {
          "data": {
            "text/plain": [
              "'hellothere'"
            ]
          },
          "execution_count": 13,
          "metadata": {},
          "output_type": "execute_result"
        }
      ],
      "source": [
        "# cook your dish here\n",
        "eye_colors = [\"brown\", \"blue\", \"green\"] \n",
        "\n",
        "eye1, eye2 = list(map(str, input().split()))\n",
        "eye1 = eye1.upper()\n",
        "eye2 = eye2.upper()\n",
        "\n",
        "if eye1 == \"R\" or eye2 == \"R\":\n",
        "    print(\"R\")\n",
        "elif eye1 == \"B\" or eye2 == \"B\":\n",
        "    print(\"B\")\n",
        "else:\n",
        "    print(\"G\")\n",
        "\n",
        "\"\"\"hellothere\"\"\""
      ]
    },
    {
      "cell_type": "code",
      "execution_count": 33,
      "metadata": {},
      "outputs": [
        {
          "name": "stdout",
          "output_type": "stream",
          "text": [
            "No\n"
          ]
        }
      ],
      "source": [
        "# cook your dish here\n",
        "test_cases = int(input())\n",
        "\n",
        "for _ in range(test_cases):\n",
        "    count = 0\n",
        "    team_a, team_b = list(map(int, input().split()))\n",
        "    total_goals = [team_a * 3, team_b * 4]\n",
        "    count += 1\n",
        "\n",
        "    for i in range(len(total_goals)-1):\n",
        "        if total_goals[i] + 2 == total_goals[i + 1] + 1:\n",
        "            count += 1\n",
        "        elif total_goals[i] + 2 == total_goals[i + 1]:\n",
        "            count += 1\n",
        "        elif total_goals[i] + 1 == total_goals[i + 1] + 1:\n",
        "            count += 1\n",
        "        elif total_goals[i] + 1 == total_goals[i + 1]:\n",
        "            count += 1\n",
        "        else:\n",
        "            count = 0\n",
        "    \n",
        "    if count > 0:\n",
        "        print(\"Yes\")\n",
        "    else:\n",
        "        print(\"No\")"
      ]
    },
    {
      "cell_type": "code",
      "execution_count": null,
      "metadata": {},
      "outputs": [
        {
          "name": "stdout",
          "output_type": "stream",
          "text": [
            "6000\n"
          ]
        }
      ],
      "source": [
        "# cook your dish here\n",
        "test_cases = int(input())\n",
        "\n",
        "for _ in range(test_cases):\n",
        "    price_per_round = int(input())\n",
        "    games = list(map(str, input().lower()))\n",
        "    carlsen_score = 0\n",
        "    chef_score = 0\n",
        "        \n",
        "    \n",
        "    for i in games:\n",
        "        if i == \"c\":\n",
        "            carlsen_score += 1\n",
        "        elif i == \"n\":\n",
        "            chef_score += 1\n",
        "        else:\n",
        "            carlsen_score += 1\n",
        "            chef_score += 1\n",
        "        \n",
        "    \n",
        "    if carlsen_score > chef_score:\n",
        "        print(60 * price_per_round)\n",
        "    elif carlsen_score == chef_score:\n",
        "        print(55 * price_per_round)\n",
        "    else:\n",
        "        print(40 * price_per_round)\n",
        "    "
      ]
    },
    {
      "cell_type": "code",
      "execution_count": 42,
      "metadata": {},
      "outputs": [
        {
          "name": "stdout",
          "output_type": "stream",
          "text": [
            "5\n"
          ]
        }
      ],
      "source": [
        "test_cases = int(input())\n",
        "\n",
        "def check_menu_needed(input_a):\n",
        "    count = 0\n",
        "    for i in range(12):\n",
        "        if input_a <= 0: \n",
        "            return count\n",
        "        elif input_a == 2 ** i:\n",
        "            return 1\n",
        "        elif input_a < 2 ** i:\n",
        "            count += 1\n",
        "            input_a -= 2 ** (i - 1)\n",
        "            count += check_menu_needed(input_a)\n",
        "    return count\n",
        "\n",
        "for i in range(test_cases):\n",
        "    input_a = int(input())\n",
        "\n",
        "    print(check_menu_needed(input_a))\n"
      ]
    },
    {
      "cell_type": "code",
      "execution_count": 5,
      "metadata": {},
      "outputs": [
        {
          "data": {
            "text/plain": [
              "2"
            ]
          },
          "execution_count": 5,
          "metadata": {},
          "output_type": "execute_result"
        }
      ],
      "source": []
    },
    {
      "cell_type": "code",
      "execution_count": null,
      "metadata": {},
      "outputs": [],
      "source": []
    }
  ],
  "metadata": {
    "kernelspec": {
      "display_name": "Python 3",
      "language": "python",
      "name": "python3"
    },
    "language_info": {
      "codemirror_mode": {
        "name": "ipython",
        "version": 3
      },
      "file_extension": ".py",
      "mimetype": "text/x-python",
      "name": "python",
      "nbconvert_exporter": "python",
      "pygments_lexer": "ipython3",
      "version": "3.11.4"
    }
  },
  "nbformat": 4,
  "nbformat_minor": 2
}
