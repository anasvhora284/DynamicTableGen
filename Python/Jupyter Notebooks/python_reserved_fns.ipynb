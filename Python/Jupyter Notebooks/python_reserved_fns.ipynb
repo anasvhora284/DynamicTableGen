{
 "cells": [
  {
   "cell_type": "markdown",
   "metadata": {},
   "source": [
    "- ### Reserved functions in python"
   ]
  },
  {
   "cell_type": "markdown",
   "metadata": {},
   "source": [
    "1. I/O functions:\n",
    "    -  print() - text output\n",
    "    - input() - takes user input as string\n",
    "    - open() - Opens a file for Read / Write"
   ]
  },
  {
   "cell_type": "code",
   "execution_count": 1,
   "metadata": {},
   "outputs": [
    {
     "name": "stdout",
     "output_type": "stream",
     "text": [
      "You entered: Hello there!\n",
      "Your input has been written to 'user_input.txt'.\n"
     ]
    }
   ],
   "source": [
    "def io_operations():\n",
    "    user_input = input(\"Please enter some text: \")\n",
    "    \n",
    "    print(\"You entered:\", user_input)\n",
    "    \n",
    "    with open('user_input.txt', 'w') as file:\n",
    "        file.write(user_input)\n",
    "        print(\"Your input has been written to 'user_input.txt'.\")\n",
    "\n",
    "io_operations()"
   ]
  },
  {
   "cell_type": "markdown",
   "metadata": {},
   "source": [
    "2. Type Conversion Functions:\n",
    "    - int() :- Converts a value to an integer.\n",
    "    - float() :- Converts a value to a floating-point number.\n",
    "    - complex() :- Converts to a complex number.\n",
    "    - str() :- Converts to a string.\n",
    "    - bool() :- Converts to a boolean (True or False).\n",
    "    - list() :- Converts to a list.\n",
    "    - tuple() :- Converts to a tuple.\n",
    "    - set() :- Converts to a set.\n",
    "    - dict() :- Converts to a dictionary.\n",
    "    - frozenset() :- Converts to an immutable set.\n",
    "    - bytes() :- Converts to a bytes object.\n",
    "    - bytearray() :- Converts to a mutable bytes object.\n",
    "    - memoryview() :- Creates a memory view object."
   ]
  },
  {
   "cell_type": "code",
   "execution_count": 6,
   "metadata": {},
   "outputs": [
    {
     "name": "stdout",
     "output_type": "stream",
     "text": [
      "int() conversion: 42\n",
      "float() conversion: 3.14\n",
      "complex() conversion: (1+2j)\n",
      "str() conversion: 100\n",
      "bool() conversion: False\n",
      "list() conversion: [1, 2, 3]\n",
      "tuple() conversion: (1, 2, 3)\n",
      "set() conversion: {1, 2, 3}\n",
      "dict() conversion: {'key1': 'value1', 'key2': 'value2'}\n",
      "frozenset() conversion: frozenset({1, 2, 3})\n",
      "bytes() conversion: b'hello'\n",
      "bytearray() conversion: bytearray(b'world')\n",
      "memoryview() conversion: <memory at 0x000001944BF7BC40>\n"
     ]
    }
   ],
   "source": [
    "def type_conversion_examples():\n",
    "    # Example values for conversion\n",
    "    int_value = \"42\"\n",
    "    float_value = \"3.14\"\n",
    "    complex_value = \"1+2j\"\n",
    "    str_value = 100\n",
    "    bool_value = 0\n",
    "    list_value = \"1,2,3\"\n",
    "    tuple_value = [1, 2, 3]\n",
    "    set_value = [1, 2, 2, 3]\n",
    "    dict_value = [(\"key1\", \"value1\"), (\"key2\", \"value2\")]\n",
    "    frozenset_value = [1, 2, 3]\n",
    "    bytes_value = \"hello\"\n",
    "    bytearray_value = \"world\"\n",
    "    memoryview_value = bytes(\"hello\", 'utf-8')\n",
    "\n",
    "    # Type conversions\n",
    "    print(\"int() conversion:\", int(int_value))\n",
    "    print(\"float() conversion:\", float(float_value))\n",
    "    print(\"complex() conversion:\", complex(complex_value))\n",
    "    print(\"str() conversion:\", str(str_value))\n",
    "    print(\"bool() conversion:\", bool(bool_value))\n",
    "    print(\"list() conversion:\", list(map(int, list_value.split(','))))\n",
    "    print(\"tuple() conversion:\", tuple(tuple_value))\n",
    "    print(\"set() conversion:\", set(set_value))\n",
    "    print(\"dict() conversion:\", dict(dict_value))\n",
    "    print(\"frozenset() conversion:\", frozenset(frozenset_value))\n",
    "    print(\"bytes() conversion:\", bytes(bytes_value, 'utf-8'))\n",
    "    print(\"bytearray() conversion:\", bytearray(bytearray_value, 'utf-8'))\n",
    "    print(\"memoryview() conversion:\", memoryview(memoryview_value))\n",
    "\n",
    "# Call the function to demonstrate type conversions\n",
    "type_conversion_examples()\n"
   ]
  },
  {
   "cell_type": "markdown",
   "metadata": {},
   "source": [
    "3. Object and Attribute Handling:\n",
    "    - type() :- Returns the type of an object.\n",
    "    - id() :- Returns the unique ID of an object.\n",
    "    - isinstance() :- Checks if an object is an instance of a class.\n",
    "    - issubclass() :- Checks if a class is a subclass of another.\n",
    "    - dir() :- Returns the list of attributes/methods of an object.\n",
    "    - hasattr() :- Checks if an object has a specific attribute.\n",
    "    - getattr() :- Gets the value of an attribute.\n",
    "    - setattr() :- Sets the value of an attribute.\n",
    "    - delattr() :- Deletes an attribute from an object."
   ]
  },
  {
   "cell_type": "code",
   "execution_count": 8,
   "metadata": {},
   "outputs": [
    {
     "name": "stdout",
     "output_type": "stream",
     "text": [
      "Type of obj: <class '__main__.MyClass'>\n",
      "ID of obj: 1736442362576\n",
      "Is obj an instance of MyClass? True\n",
      "Is MyClass a subclass of object? True\n",
      "Attributes and methods of obj: ['__class__', '__delattr__', '__dict__', '__dir__', '__doc__', '__eq__', '__format__', '__ge__', '__getattribute__', '__getstate__', '__gt__', '__hash__', '__init__', '__init_subclass__', '__le__', '__lt__', '__module__', '__ne__', '__new__', '__reduce__', '__reduce_ex__', '__repr__', '__setattr__', '__sizeof__', '__str__', '__subclasshook__', '__weakref__', 'attribute']\n",
      "Does obj have attribute 'attribute'? True\n",
      "Value of 'attribute' in obj: I am an attribute\n",
      "Updated value of 'attribute' in obj: New value\n",
      "Does obj still have attribute 'attribute'? False\n"
     ]
    }
   ],
   "source": [
    "class MyClass:\n",
    "    def __init__(self):\n",
    "        self.attribute = \"I am an attribute\"\n",
    "\n",
    "obj = MyClass()\n",
    "\n",
    "print(\"Type of obj:\", type(obj))\n",
    "\n",
    "print(\"ID of obj:\", id(obj))\n",
    "\n",
    "print(\"Is obj an instance of MyClass?\", isinstance(obj, MyClass))\n",
    "\n",
    "print(\"Is MyClass a subclass of object?\", issubclass(MyClass, object))\n",
    "\n",
    "print(\"Attributes and methods of obj:\", dir(obj))\n",
    "\n",
    "print(\"Does obj have attribute 'attribute'?\", hasattr(obj, 'attribute'))\n",
    "\n",
    "print(\"Value of 'attribute' in obj:\", getattr(obj, 'attribute'))\n",
    "\n",
    "setattr(obj, 'attribute', \"New value\")\n",
    "print(\"Updated value of 'attribute' in obj:\", getattr(obj, 'attribute'))\n",
    "\n",
    "delattr(obj, 'attribute')\n",
    "print(\"Does obj still have attribute 'attribute'?\", hasattr(obj, 'attribute'))\n"
   ]
  },
  {
   "cell_type": "markdown",
   "metadata": {},
   "source": [
    "4. Mathematical Functions:\n",
    "    - abs() :- Returns the absolute value.\n",
    "    - round() :- Rounds a number.\n",
    "    - pow() :- Raises a number to a power (pow(x, y) → x^y).\n",
    "    - min() :- Returns the smallest value.\n",
    "    - max() :- Returns the largest value.\n",
    "    - sum() :- Returns the sum of elements in an iterable.\n",
    "    - divmod() :- Returns quotient & remainder (divmod(x, y) → (x//y, x%y)).\n",
    "    - bin() :- Converts to a binary string.\n",
    "    - oct() :- Converts to an octal string.\n",
    "    - hex() :- Converts to a hexadecimal string."
   ]
  },
  {
   "cell_type": "code",
   "execution_count": 10,
   "metadata": {},
   "outputs": [
    {
     "name": "stdout",
     "output_type": "stream",
     "text": [
      "Absolute value of -5: 5\n",
      "Rounded value of 3.7: 4\n",
      "2 raised to the power of 3: 8\n",
      "Minimum of [1, 2, 3, 0, -1]: -1\n",
      "Maximum of [1, 2, 3, 0, -1]: 3\n",
      "Sum of [1, 2, 3]: 6\n",
      "Divmod of 10 and 3: (3, 1)\n",
      "Binary of 10: 0b1010\n",
      "Octal of 10: 0o12\n",
      "Hexadecimal of 10: 0xa\n"
     ]
    }
   ],
   "source": [
    "print(\"Absolute value of -5:\", abs(-5))\n",
    "\n",
    "print(\"Rounded value of 3.7:\", round(3.7))\n",
    "\n",
    "print(\"2 raised to the power of 3:\", pow(2, 3))\n",
    "\n",
    "print(\"Minimum of [1, 2, 3, 0, -1]:\", min([1, 2, 3, 0, -1]))\n",
    "\n",
    "print(\"Maximum of [1, 2, 3, 0, -1]:\", max([1, 2, 3, 0, -1]))\n",
    "\n",
    "print(\"Sum of [1, 2, 3]:\", sum([1, 2, 3]))\n",
    "\n",
    "print(\"Divmod of 10 and 3:\", divmod(10, 3))\n",
    "\n",
    "print(\"Binary of 10:\", bin(10))\n",
    "\n",
    "print(\"Octal of 10:\", oct(10))\n",
    "\n",
    "print(\"Hexadecimal of 10:\", hex(10))\n"
   ]
  },
  {
   "cell_type": "markdown",
   "metadata": {},
   "source": [
    "5. Sequence Handling (Lists, Tuples, Ranges):\n",
    "    - len() :-\tReturns the length of an object.\n",
    "    - sorted() :-\tReturns a sorted list.\n",
    "    - reversed() :-\tReturns a reversed iterator.\n",
    "    - enumerate() :-\tReturns an enumerated object.\n",
    "    - all() :-\tReturns True if all elements in an iterable are true.\n",
    "    - any() :-\tReturns True if at least one element in an iterable is true.\n",
    "    - filter() :-\tFilters elements using a function.\n",
    "    - map() :-\tApplies a function to all items in an iterable.\n",
    "    - zip() :-\tCombines multiple iterables into tuples."
   ]
  },
  {
   "cell_type": "code",
   "execution_count": 19,
   "metadata": {},
   "outputs": [
    {
     "name": "stdout",
     "output_type": "stream",
     "text": [
      "Length of [1, 2, 3, 5]: 4\n",
      "Sorted list of [3, 1, 2]: [1, 2, 3]\n",
      "Reversed list of [1, 2, 3]: [3, 2, 1]\n",
      "Enumerate [1, 2, 3]: [(0, 1), (1, 2), (2, 3)]\n",
      "All elements in [True, True, False]: False\n",
      "Any element in [False, False, True]: True\n",
      "Filter even numbers from [1, 2, 3, 4]: [2, 4]\n",
      "Map square function to [1, 2, 3]: [1, 4, 9]\n",
      "Zip [1, 2, 3] and ['a', 'b', 'c']: [(1, 'a'), (2, 'b'), (3, 'c')]\n"
     ]
    }
   ],
   "source": [
    "print(\"Length of [1, 2, 3, 5]:\", len([1, 2, 3, 5]))\n",
    "\n",
    "print(\"Sorted list of [3, 1, 2]:\", sorted([3, 1, 2]))\n",
    "\n",
    "print(\"Reversed list of [1, 2, 3]:\", list(reversed([1, 2, 3])))\n",
    "\n",
    "print(\"Enumerate [1, 2, 3]:\", list(enumerate([1, 2, 3])))\n",
    "\n",
    "print(\"All elements in [True, True, False]:\", all([True, True, False]))\n",
    "\n",
    "print(\"Any element in [False, False, True]:\", any([False, False, True]))\n",
    "\n",
    "print(\"Filter even numbers from [1, 2, 3, 4]:\", list(filter(lambda x: x % 2 == 0, [1, 2, 3, 4])))\n",
    "\n",
    "print(\"Map square function to [1, 2, 3]:\", list(map(lambda x: x ** 2, [1, 2, 3])))\n",
    "\n",
    "print(\"Zip [1, 2, 3] and ['a', 'b', 'c']:\", list(zip([1, 2, 3], ['a', 'b', 'c'])))\n"
   ]
  },
  {
   "cell_type": "markdown",
   "metadata": {},
   "source": [
    "6. File Handling:\n",
    "    - open() :- Opens a file.\n",
    "    - close() :- Closes a file."
   ]
  },
  {
   "cell_type": "code",
   "execution_count": 21,
   "metadata": {},
   "outputs": [
    {
     "name": "stdout",
     "output_type": "stream",
     "text": [
      "Content of user_input.txt: Hello\n"
     ]
    }
   ],
   "source": [
    "with open('user_input.txt', 'r') as file:\n",
    "    content = file.read()\n",
    "    print(\"Content of user_input.txt:\", content)\n",
    "\n",
    "with open('output.txt', 'w') as file:\n",
    "    file.write(\"Hello, World!\\n\")\n"
   ]
  },
  {
   "cell_type": "markdown",
   "metadata": {},
   "source": [
    "7. Functional Programming:\n",
    "    - lambda :- Creates an anonymous function.\n",
    "    - eval() :- Evaluates a string as Python code.\n",
    "    - exec() :- Executes dynamically created Python code."
   ]
  },
  {
   "cell_type": "code",
   "execution_count": 3,
   "metadata": {},
   "outputs": [
    {
     "name": "stdout",
     "output_type": "stream",
     "text": [
      "Result of eval() for expression '3 * (4 + 5)': 27\n",
      "Value of x after exec(): 10\n",
      "Square of 5 using lambda: 25\n"
     ]
    }
   ],
   "source": [
    "expression = \"3 * (4 + 5)\"\n",
    "result = eval(expression)\n",
    "print(\"Result of eval() for expression '{}': {}\".format(expression, result))\n",
    "\n",
    "code = \"x = 10\"\n",
    "exec(code)\n",
    "print(\"Value of x after exec():\", x) # type: ignore\n",
    "\n",
    "square = lambda x: x ** 2\n",
    "print(\"Square of 5 using lambda:\", square(5))"
   ]
  },
  {
   "cell_type": "markdown",
   "metadata": {},
   "source": [
    "8. Memory & Reference Functions:\n",
    "    - id() :- Returns the unique identifier of an object.\n",
    "    - hash() :- Returns the hash value of an object."
   ]
  },
  {
   "cell_type": "code",
   "execution_count": 24,
   "metadata": {},
   "outputs": [
    {
     "name": "stdout",
     "output_type": "stream",
     "text": [
      "Unique identifier of sample_object: 1736442734896\n",
      "Hash value of sample_object: -3569615438891094294\n"
     ]
    }
   ],
   "source": [
    "sample_object = \"Hello, World!\"\n",
    "\n",
    "object_id = id(sample_object)\n",
    "print(\"Unique identifier of sample_object:\", object_id)\n",
    "\n",
    "object_hash = hash(sample_object)\n",
    "print(\"Hash value of sample_object:\", object_hash)\n"
   ]
  },
  {
   "cell_type": "markdown",
   "metadata": {},
   "source": [
    "9. Help & Debugging:\n",
    "    - help() :- Displays help information.\n",
    "    - callable() :- Checks if an object is callable.\n",
    "    - compile() :- Compiles a string into executable code."
   ]
  },
  {
   "cell_type": "code",
   "execution_count": 28,
   "metadata": {},
   "outputs": [
    {
     "name": "stdout",
     "output_type": "stream",
     "text": [
      "Help on built-in function print in module builtins:\n",
      "\n",
      "print(*args, sep=' ', end='\\n', file=None, flush=False)\n",
      "    Prints the values to a stream, or to sys.stdout by default.\n",
      "    \n",
      "    sep\n",
      "      string inserted between values, default a space.\n",
      "    end\n",
      "      string appended after the last value, default a newline.\n",
      "    file\n",
      "      a file-like object (stream); defaults to the current sys.stdout.\n",
      "    flush\n",
      "      whether to forcibly flush the stream.\n",
      "\n",
      "Is sample_function callable? True\n",
      "Hello from compiled code!\n"
     ]
    }
   ],
   "source": [
    "help(print)\n",
    "\n",
    "def sample_function():\n",
    "    return \"I am callable!\"\n",
    "\n",
    "print(\"Is sample_function callable?\", callable(sample_function))\n",
    "\n",
    "code_string = \"print('Hello from compiled code!')\"\n",
    "compiled_code = compile(code_string, '<string>', 'exec')\n",
    "exec(compiled_code)\n"
   ]
  },
  {
   "cell_type": "markdown",
   "metadata": {},
   "source": [
    "10. Miscellaneous:\n",
    "    - chr() :-  Converts an integer to a Unicode character.\n",
    "    - ord() :-  Converts a Unicode character to an integer.\n",
    "    - ascii() :-  Returns a readable version of an object.\n"
   ]
  },
  {
   "cell_type": "code",
   "execution_count": 31,
   "metadata": {},
   "outputs": [
    {
     "name": "stdout",
     "output_type": "stream",
     "text": [
      "Unicode character for integer 65: A\n",
      "Integer for Unicode character 'A': 65\n",
      "Readable version of 'Hello': 'Hello'\n"
     ]
    }
   ],
   "source": [
    "chr_example = chr(65)  # Converts integer 65 to Unicode character 'A'\n",
    "print(\"Unicode character for integer 65:\", chr_example)\n",
    "\n",
    "ord_example = ord('A')  # Converts Unicode character 'A' to integer 65\n",
    "print(\"Integer for Unicode character 'A':\", ord_example)\n",
    "\n",
    "ascii_example = ascii(\"Hello\")  # Returns a readable version of the string \"Hello\"\n",
    "print(\"Readable version of 'Hello':\", ascii_example)\n"
   ]
  },
  {
   "cell_type": "code",
   "execution_count": null,
   "metadata": {},
   "outputs": [],
   "source": []
  }
 ],
 "metadata": {
  "kernelspec": {
   "display_name": "Python 3",
   "language": "python",
   "name": "python3"
  },
  "language_info": {
   "codemirror_mode": {
    "name": "ipython",
    "version": 3
   },
   "file_extension": ".py",
   "mimetype": "text/x-python",
   "name": "python",
   "nbconvert_exporter": "python",
   "pygments_lexer": "ipython3",
   "version": "3.11.4"
  }
 },
 "nbformat": 4,
 "nbformat_minor": 2
}
