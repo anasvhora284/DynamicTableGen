{
 "cells": [
  {
   "cell_type": "markdown",
   "metadata": {},
   "source": [
    "- ### OOPs concepts\n",
    "\n",
    "#### 1. __Class and Object:__\n",
    "A class is a blueprint for creating objects, and an object is an instance of a class."
   ]
  },
  {
   "cell_type": "code",
   "execution_count": 16,
   "metadata": {},
   "outputs": [
    {
     "name": "stdout",
     "output_type": "stream",
     "text": [
      "Car: Toyota Corolla\n"
     ]
    }
   ],
   "source": [
    "class Car:\n",
    "    def __init__(self, brand, model):\n",
    "        self.brand = brand\n",
    "        self.model = model\n",
    "\n",
    "    def display_info(self):\n",
    "        print(f\"Car: {self.brand} {self.model}\")\n",
    "\n",
    "car1 = Car(\"Toyota\", \"Corolla\")\n",
    "car1.display_info()"
   ]
  },
  {
   "cell_type": "markdown",
   "metadata": {},
   "source": [
    "#### 2. __Constructor (__init__ Method):__\n",
    "The constructor is a special method (__init__) that is called when an object is created."
   ]
  },
  {
   "cell_type": "code",
   "execution_count": 17,
   "metadata": {},
   "outputs": [
    {
     "name": "stdout",
     "output_type": "stream",
     "text": [
      "Name: Alice\n",
      "Age: 25\n"
     ]
    }
   ],
   "source": [
    "class Person:\n",
    "    def __init__(self, name, age):\n",
    "        self.name = name\n",
    "        self.age = age\n",
    "\n",
    "p1 = Person(\"Alice\", 25)\n",
    "print(\"Name:\", p1.name)\n",
    "print(\"Age:\", p1.age)"
   ]
  },
  {
   "cell_type": "markdown",
   "metadata": {},
   "source": [
    "#### 3. __Encapsulation (Public, Private, Protected):__\n",
    "\n",
    "Encapsulation restricts direct access to some object attributes to protect data integrity.\n",
    "\n",
    "| Modifier | Syntax Example | Access Scope|\n",
    "|-----|-----|-----|\n",
    "| Public | self.name = \"Alice\" | Accessible from anywhere |\n",
    "| Protected | self._name = \"Alice\" | Conventionally \"protected\" but still accessible |\n",
    "| Private | self.__name = \"Alice\" | Not accessible outside the class |\n"
   ]
  },
  {
   "cell_type": "code",
   "execution_count": 3,
   "metadata": {},
   "outputs": [
    {
     "name": "stdout",
     "output_type": "stream",
     "text": [
      "1000\n"
     ]
    },
    {
     "ename": "AttributeError",
     "evalue": "'BankAccount' object has no attribute '__balance'",
     "output_type": "error",
     "traceback": [
      "\u001b[1;31m---------------------------------------------------------------------------\u001b[0m",
      "\u001b[1;31mAttributeError\u001b[0m                            Traceback (most recent call last)",
      "Cell \u001b[1;32mIn[3], line 13\u001b[0m\n\u001b[0;32m     11\u001b[0m acc \u001b[38;5;241m=\u001b[39m BankAccount(\u001b[38;5;241m1000\u001b[39m)\n\u001b[0;32m     12\u001b[0m \u001b[38;5;28mprint\u001b[39m(acc\u001b[38;5;241m.\u001b[39mget_balance())\n\u001b[1;32m---> 13\u001b[0m \u001b[38;5;28mprint\u001b[39m(\u001b[43macc\u001b[49m\u001b[38;5;241;43m.\u001b[39;49m\u001b[43m__balance\u001b[49m)\n",
      "\u001b[1;31mAttributeError\u001b[0m: 'BankAccount' object has no attribute '__balance'"
     ]
    }
   ],
   "source": [
    "class BankAccount:\n",
    "    def __init__(self, balance):\n",
    "        self.__balance = balance\n",
    "\n",
    "    def deposit(self, amount):\n",
    "        self.__balance += amount\n",
    "\n",
    "    def get_balance(self):\n",
    "        return self.__balance\n",
    "\n",
    "acc = BankAccount(1000)\n",
    "print(acc.get_balance())\n",
    "print(acc.__balance)\n"
   ]
  },
  {
   "cell_type": "markdown",
   "metadata": {},
   "source": [
    "#### 4. __Inheritance:__\n",
    "\n",
    "Inheritance allows a child class to reuse attributes and methods from a parent class.\n",
    "\n",
    "1. Single Inheritance:"
   ]
  },
  {
   "cell_type": "code",
   "execution_count": null,
   "metadata": {},
   "outputs": [],
   "source": [
    "class Animal:\n",
    "    def speak(self):\n",
    "        print(\"Animal speaks\")\n",
    "\n",
    "class Dog(Animal):\n",
    "    def speak(self):\n",
    "        print(\"Bark\")\n",
    "\n",
    "dog = Dog()\n",
    "dog.speak()"
   ]
  },
  {
   "cell_type": "markdown",
   "metadata": {},
   "source": [
    "2. Multiple Inheritance"
   ]
  },
  {
   "cell_type": "code",
   "execution_count": null,
   "metadata": {},
   "outputs": [],
   "source": [
    "class A:\n",
    "    def speak_a(self):\n",
    "        print(\"A speaks\")\n",
    "\n",
    "class B:\n",
    "    def speak_b(self):\n",
    "        print(\"B speaks\")\n",
    "\n",
    "class C(A, B):\n",
    "    def speak(self):\n",
    "        print(\"C speaks\")\n",
    "\n",
    "c = C()\n",
    "c.speak()\n",
    "c.speak_a()\n",
    "c.speak_b()"
   ]
  },
  {
   "cell_type": "markdown",
   "metadata": {},
   "source": [
    "3. Multilevel inheritance"
   ]
  },
  {
   "cell_type": "code",
   "execution_count": null,
   "metadata": {},
   "outputs": [],
   "source": [
    "class animal:\n",
    "    def speak(self):\n",
    "        print(\"Animal speaks\")\n",
    "\n",
    "class tigerBreed(animal):\n",
    "    def breed(self):\n",
    "        print(\"Breed of tiger\")\n",
    "\n",
    "class cat(tigerBreed):\n",
    "    def speak(self):\n",
    "        print(\"Cat speaks\")\n",
    "\n",
    "c = cat()\n",
    "c.breed()\n",
    "c.speak()"
   ]
  },
  {
   "cell_type": "markdown",
   "metadata": {},
   "source": [
    "4. Hierarchical inheritance"
   ]
  },
  {
   "cell_type": "code",
   "execution_count": null,
   "metadata": {},
   "outputs": [],
   "source": [
    "class Vehicle:\n",
    "    def start(self):\n",
    "        print(\"Vehicle is starting\")\n",
    "\n",
    "class Car(Vehicle):\n",
    "    def drive(self):\n",
    "        print(\"Car is driving\")\n",
    "\n",
    "class Bike(Vehicle):\n",
    "    def ride(self):\n",
    "        print(\"Bike is riding\")\n",
    "\n",
    "c = Car()\n",
    "c.start()\n",
    "c.drive()  \n",
    "\n",
    "b = Bike()\n",
    "b.start()\n",
    "b.ride()"
   ]
  },
  {
   "cell_type": "markdown",
   "metadata": {},
   "source": [
    "5. Hybrid inheritance"
   ]
  },
  {
   "cell_type": "code",
   "execution_count": null,
   "metadata": {},
   "outputs": [],
   "source": [
    "class A:\n",
    "    def method_A(self):\n",
    "        print(\"Method of A\")\n",
    "\n",
    "class B(A):\n",
    "    def method_B(self):\n",
    "        print(\"Method of B\")\n",
    "\n",
    "class C(A):\n",
    "    def method_C(self):\n",
    "        print(\"Method of C\")\n",
    "\n",
    "class D(B, C):\n",
    "    def method_D(self):\n",
    "        print(\"Method of D\")\n",
    "\n",
    "d = D()\n",
    "d.method_A()\n",
    "d.method_B()\n",
    "d.method_C()\n",
    "d.method_D()\n"
   ]
  },
  {
   "cell_type": "markdown",
   "metadata": {},
   "source": [
    "#### 5. __Polymorphism (Method Overriding & Method Overloading):__\n",
    "\n",
    "Polymorphism allows different classes to use the same method name with different implementations.\n",
    "\n",
    "- __Method Overriding (Same method, different behavior):__"
   ]
  },
  {
   "cell_type": "code",
   "execution_count": null,
   "metadata": {},
   "outputs": [],
   "source": [
    "class Bird:\n",
    "    def speak(self):\n",
    "        print(\"Chirp\")\n",
    "\n",
    "class Parrot(Bird):\n",
    "    def speak(self):\n",
    "        print(\"Hello!\")\n",
    "\n",
    "p = Parrot()\n",
    "p.speak()"
   ]
  },
  {
   "cell_type": "markdown",
   "metadata": {},
   "source": [
    "- __Method Overloading (Same method, different arguments):__\n",
    "\n",
    "    Python does not support method overloading natively, but we can achieve it using default arguments."
   ]
  },
  {
   "cell_type": "code",
   "execution_count": null,
   "metadata": {},
   "outputs": [],
   "source": [
    "class Math:    \n",
    "    def add(self, a, b, c=0, d=0):\n",
    "        return a + b + c + d\n",
    "\n",
    "m = Math()\n",
    "print(m.add(5, 10))\n",
    "print(m.add(5, 10, 20, 40))\n"
   ]
  },
  {
   "cell_type": "markdown",
   "metadata": {},
   "source": [
    "#### 6. __Abstraction (Using ABC module):__\n",
    "\n",
    "Abstraction hides implementation details and only shows necessary functionality.    \n",
    "Python provides the ABC (Abstract Base Class) module for abstraction."
   ]
  },
  {
   "cell_type": "code",
   "execution_count": 10,
   "metadata": {},
   "outputs": [
    {
     "name": "stdout",
     "output_type": "stream",
     "text": [
      "Bark\n"
     ]
    }
   ],
   "source": [
    "from abc import ABC, abstractmethod\n",
    "\n",
    "class Animal(ABC):\n",
    "    @abstractmethod\n",
    "    def sound(self):  # Abstract method (must be implemented in child)\n",
    "        pass\n",
    "\n",
    "class Dog(Animal):\n",
    "    def sound(self):\n",
    "        print(\"Bark\")\n",
    "\n",
    "d = Dog()\n",
    "d.sound()\n",
    "\n"
   ]
  },
  {
   "cell_type": "markdown",
   "metadata": {},
   "source": [
    "#### 7. __Static and Class Methods:__\n",
    "\n",
    "Static methods don’t require access to class/instance variables (@staticmethod).    \n",
    "Class methods can access class-level variables (@classmethod)."
   ]
  },
  {
   "cell_type": "code",
   "execution_count": null,
   "metadata": {},
   "outputs": [],
   "source": [
    "class Example:\n",
    "    class_var = \"Class Variable\"\n",
    "\n",
    "    @staticmethod\n",
    "    def static_method(a, b):\n",
    "        print(\"I am a static method\", a, b)\n",
    "\n",
    "    @classmethod\n",
    "    def class_method(cls):\n",
    "        print(f\"I am a class method, accessing {cls.class_var}\")\n",
    "\n",
    "class Addition:\n",
    "    def __init__(self, a, b):\n",
    "        self.a = a\n",
    "        self.b = b\n",
    "\n",
    "    def add(self):  # Changed from @classmethod to instance method\n",
    "        return self.a + self.b\n",
    "    \n",
    "    @staticmethod\n",
    "    def add_another(a, b):\n",
    "        return a + b  # Removed the undefined variable 'c'\n",
    "    \n",
    "\n",
    "Example.static_method(2, 3)\n",
    "Example.class_method()\n",
    "\n",
    "addition_instance = Addition(5, 10)\n",
    "print(addition_instance.add())\n",
    "\n",
    "print(Addition.add_another(25, 10))  # Added print statement for clarity"
   ]
  },
  {
   "cell_type": "markdown",
   "metadata": {},
   "source": [
    "#### 8. ____new__() Method:__\n",
    "\n",
    "__new__ is called before __init__ to create a new instance.     \n",
    "Used for Singleton patterns and immutable objects."
   ]
  },
  {
   "cell_type": "code",
   "execution_count": null,
   "metadata": {},
   "outputs": [],
   "source": [
    "class Singleton:\n",
    "    _instance = None\n",
    "    def __new__(cls):\n",
    "        if not cls._instance:\n",
    "            cls._instance = super().__new__(cls)\n",
    "        return cls._instance\n",
    "\n",
    "s1 = Singleton()\n",
    "s2 = Singleton()\n",
    "print(s1 is s2)"
   ]
  },
  {
   "cell_type": "markdown",
   "metadata": {},
   "source": [
    "#### 9. __Custom Iterators (__iter__ & __next__):__\n",
    "\n",
    "To make a class iterable:\n",
    "\n",
    "+ Implement __iter__() → Returns an iterator (self).\n",
    "+ Implement __next__() → Returns the next value."
   ]
  },
  {
   "cell_type": "code",
   "execution_count": null,
   "metadata": {},
   "outputs": [],
   "source": [
    "class Counter:\n",
    "    def __init__(self, limit):\n",
    "        self.limit = limit\n",
    "        self.current = 0\n",
    "\n",
    "    def __iter__(self):\n",
    "        return self\n",
    "\n",
    "    def __next__(self):\n",
    "        if self.current < self.limit:\n",
    "            self.current += 1\n",
    "            return self.current\n",
    "        else:\n",
    "            raise StopIteration\n",
    "\n",
    "counter = Counter(3)\n",
    "for num in counter:\n",
    "    print(num)"
   ]
  },
  {
   "cell_type": "markdown",
   "metadata": {},
   "source": [
    "#### 10. __Generators (yield):__\n",
    "\n",
    "Generators simplify iterator creation using yield."
   ]
  },
  {
   "cell_type": "code",
   "execution_count": null,
   "metadata": {},
   "outputs": [],
   "source": [
    "def even_numbers(n):\n",
    "    for i in range(2, n+1, 2):\n",
    "        yield i\n",
    "\n",
    "gen = even_numbers(10)\n",
    "for i in gen:\n",
    "    print(i)\n",
    "# print(next(gen))\n",
    "# print(next(gen))\n",
    "# print(next(gen))\n",
    "# print(next(gen))\n",
    "# print(next(gen))\n",
    "# print(next(gen))\n",
    "# print(next(gen))\n",
    "# print(next(gen))\n",
    "# print(next(gen))\n",
    "# print(next(gen))\n",
    "# print(next(gen))\n",
    "# print(next(gen))\n",
    "# print(next(gen))\n",
    "# print(next(gen))"
   ]
  },
  {
   "cell_type": "markdown",
   "metadata": {},
   "source": [
    "#### 11. __Decorators:__\n",
    "\n",
    "A decorator in Python is a function that modifies another function without changing its structure. It is commonly used for logging, authentication, timing execution, and access control.\n",
    "\n",
    "A decorator is a higher-order function (a function that takes another function as an argument).              \n",
    "Decorators use `@decorator_name syntax`.             \n",
    "They wrap a function inside another function to modify its behavior.    \n",
    "\n",
    "Built-in Python Decorators\n",
    "Python has several built-in decorators:\n",
    "\n",
    "| Decorator | Purpose |\n",
    "|-----|-----|\n",
    "| @staticmethod | Defines a static method that doesn't use self |\n",
    "| @classmethod | Defines a method that takes cls as its first parameter |\n",
    "| @property | Converts a method into a read-only attribute |"
   ]
  },
  {
   "cell_type": "code",
   "execution_count": null,
   "metadata": {},
   "outputs": [],
   "source": [
    "def my_decorator(func):\n",
    "    def wrapper():\n",
    "        print(\"Before function call\")\n",
    "        func()  # Call the actual function\n",
    "        print(\"After function call\")\n",
    "    return wrapper  # Return the wrapper function\n",
    "\n",
    "@my_decorator\n",
    "def hello():\n",
    "    print(\"Hello, world!\")\n",
    "\n",
    "hello()"
   ]
  },
  {
   "cell_type": "code",
   "execution_count": 13,
   "metadata": {},
   "outputs": [
    {
     "name": "stdout",
     "output_type": "stream",
     "text": [
      "Hi! 5\n",
      "Hi! 5\n",
      "Hi! 5\n"
     ]
    }
   ],
   "source": [
    "def repeat(n):\n",
    "    def decorator(func):\n",
    "        def wrapper(*args, **kwargs):\n",
    "            for _ in range(n):\n",
    "                func(*args, **kwargs)\n",
    "        return wrapper\n",
    "    return decorator\n",
    "\n",
    "@repeat(3)\n",
    "def say_hi(a):\n",
    "    print(\"Hi!\", a)\n",
    "\n",
    "say_hi(a = 5)\n"
   ]
  },
  {
   "cell_type": "markdown",
   "metadata": {},
   "source": [
    "- ### Function argument types:\n",
    "\n",
    "    #### 1. Positional Arguments (Order Matters):\n",
    "    - These are the most common type of arguments.\n",
    "    - Arguments must be passed in the correct order as defined in the function."
   ]
  },
  {
   "cell_type": "code",
   "execution_count": 14,
   "metadata": {},
   "outputs": [
    {
     "name": "stdout",
     "output_type": "stream",
     "text": [
      "Hello, my name is Alice and I am 25 years old.\n",
      "Hello, my name is 25 and I am Alice years old.\n"
     ]
    }
   ],
   "source": [
    "def greet(name, age):\n",
    "    print(f\"Hello, my name is {name} and I am {age} years old.\")\n",
    "\n",
    "greet(\"Alice\", 25)  # ✅ Correct\n",
    "greet(25, \"Alice\")  # ❌ Wrong order (will still work but incorrect meaning)\n"
   ]
  },
  {
   "cell_type": "markdown",
   "metadata": {},
   "source": [
    "#### 2. Default Arguments:\n",
    "- Used when you want to assign default values to parameters.\n",
    "- If the argument is not provided, Python will use the default value."
   ]
  },
  {
   "cell_type": "code",
   "execution_count": 15,
   "metadata": {},
   "outputs": [
    {
     "name": "stdout",
     "output_type": "stream",
     "text": [
      "Hello, my name is Bob and I am 30 years old.\n",
      "Hello, my name is Charlie and I am 18 years old.\n",
      "Hello, my name is Guest and I am 18 years old.\n"
     ]
    }
   ],
   "source": [
    "def greet(name=\"Guest\", age=18):\n",
    "    print(f\"Hello, my name is {name} and I am {age} years old.\")\n",
    "\n",
    "greet(\"Bob\", 30)  # ✅ Uses provided values\n",
    "greet(\"Charlie\")  # ✅ Uses default `age=18`\n",
    "greet()  # ✅ Uses both default values"
   ]
  },
  {
   "cell_type": "markdown",
   "metadata": {},
   "source": [
    "#### 3. Keyword Arguments (order doesn't matter):\n",
    "- You can specify arguments by name, not just position.\n",
    "- Order does not matter if using keyword arguments.\n",
    "\n",
    "- Note:- __\"Use keyword arguments for readability in functions with many parameters.\"__"
   ]
  },
  {
   "cell_type": "code",
   "execution_count": null,
   "metadata": {},
   "outputs": [],
   "source": [
    "def greet(name, age):\n",
    "    print(f\"Hello, my name is {name} and I am {age} years old.\")\n",
    "\n",
    "greet(age=30, name=\"David\")  # ✅ Order doesn't matter"
   ]
  },
  {
   "cell_type": "markdown",
   "metadata": {},
   "source": [
    "#### 4. Variable-Length Arguments (*args):\n",
    "- Used when you don’t know how many arguments will be passed.\n",
    "- *args collects multiple positional arguments into a tuple.\n",
    "\n",
    "- Note:- __\"*args allows passing any number of positional arguments.\"__"
   ]
  },
  {
   "cell_type": "code",
   "execution_count": null,
   "metadata": {},
   "outputs": [],
   "source": [
    "def add_numbers(*args):\n",
    "    total = sum(args)\n",
    "    print(f\"Sum: {total}\")\n",
    "\n",
    "add_numbers(1, 2, 3, 4)  # ✅ Pass any number of arguments\n",
    "add_numbers(10, 20)  # ✅ Works with different argument counts"
   ]
  },
  {
   "cell_type": "markdown",
   "metadata": {},
   "source": [
    "5. __Keyword Variable-Length Arguments (`**kwargs`):__\n",
    "\n",
    "- Used when you don’t know how many keyword arguments will be passed.\n",
    "- `**kwargs` collects multiple keyword arguments into a dictionary.\n",
    "- Note: __\"Use `**kwargs` when a function needs to handle flexible keyword arguments.\"__"
   ]
  },
  {
   "cell_type": "code",
   "execution_count": null,
   "metadata": {},
   "outputs": [],
   "source": [
    "def person_info(**kwargs):\n",
    "    for key, value in kwargs.items():\n",
    "        print(f\"{key}: {value}\")\n",
    "\n",
    "person_info(name=\"Eve\", age=28, city=\"New York\")"
   ]
  }
 ],
 "metadata": {
  "kernelspec": {
   "display_name": "Python 3",
   "language": "python",
   "name": "python3"
  },
  "language_info": {
   "codemirror_mode": {
    "name": "ipython",
    "version": 3
   },
   "file_extension": ".py",
   "mimetype": "text/x-python",
   "name": "python",
   "nbconvert_exporter": "python",
   "pygments_lexer": "ipython3",
   "version": "3.11.4"
  }
 },
 "nbformat": 4,
 "nbformat_minor": 2
}
